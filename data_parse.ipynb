{
 "cells": [
  {
   "cell_type": "code",
   "execution_count": 2,
   "metadata": {},
   "outputs": [],
   "source": [
    "data = {\"message\":\"success\",\"teams\":[{\"team\":\"Arsenal\"},{\"team\":\"Aston Villa\"},{\"team\":\"Blackburn Rovers\"},{\"team\":\"Bolton Wanderers\"},{\"team\":\"Chelsea\"},{\"team\":\"Everton\"},{\"team\":\"Fulham\"},{\"team\":\"Hull City\"},{\"team\":\"Liverpool\"},{\"team\":\"Manchester City\"},{\"team\":\"Manchester United\"},{\"team\":\"Middlesbrough\"},{\"team\":\"Newcastle United\"},{\"team\":\"Portsmouth\"},{\"team\":\"Stoke City\"},{\"team\":\"Sunderland\"},{\"team\":\"Tottenham Hotspur\"},{\"team\":\"West Bromwich Albion\"},{\"team\":\"West Ham United\"},{\"team\":\"Wigan Athletic\"}]}\n"
   ]
  },
  {
   "cell_type": "code",
   "execution_count": 7,
   "metadata": {},
   "outputs": [
    {
     "name": "stdout",
     "output_type": "stream",
     "text": [
      "Arsenal\n",
      "Aston Villa\n",
      "Blackburn Rovers\n",
      "Bolton Wanderers\n",
      "Chelsea\n",
      "Everton\n",
      "Fulham\n",
      "Hull City\n",
      "Liverpool\n",
      "Manchester City\n",
      "Manchester United\n",
      "Middlesbrough\n",
      "Newcastle United\n",
      "Portsmouth\n",
      "Stoke City\n",
      "Sunderland\n",
      "Tottenham Hotspur\n",
      "West Bromwich Albion\n",
      "West Ham United\n",
      "Wigan Athletic\n"
     ]
    }
   ],
   "source": [
    "for team in data['teams']:\n",
    "    print(team['team'])"
   ]
  }
 ],
 "metadata": {
  "interpreter": {
   "hash": "a8ec58156af860e4be8ecce96ea1673986d9bf93095d53eaa7084d40f87b93df"
  },
  "kernelspec": {
   "display_name": "Python 3.8.9 ('venv': venv)",
   "language": "python",
   "name": "python3"
  },
  "language_info": {
   "codemirror_mode": {
    "name": "ipython",
    "version": 3
   },
   "file_extension": ".py",
   "mimetype": "text/x-python",
   "name": "python",
   "nbconvert_exporter": "python",
   "pygments_lexer": "ipython3",
   "version": "3.8.9"
  },
  "orig_nbformat": 4
 },
 "nbformat": 4,
 "nbformat_minor": 2
}
